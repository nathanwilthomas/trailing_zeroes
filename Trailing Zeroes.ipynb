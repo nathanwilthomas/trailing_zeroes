{
 "cells": [
  {
   "cell_type": "markdown",
   "metadata": {},
   "source": [
    "### Count Number of Trailing Zeroes"
   ]
  },
  {
   "cell_type": "code",
   "execution_count": 154,
   "metadata": {},
   "outputs": [
    {
     "data": {
      "text/plain": [
       "[1, 12, 4, 2, 4]"
      ]
     },
     "execution_count": 154,
     "metadata": {},
     "output_type": "execute_result"
    }
   ],
   "source": [
    "def count_zeroes(numbers):\n",
    "    \"\"\"Calculates the number of trailing zeroes at the end of a factorial\"\"\"\n",
    "\n",
    "    import re\n",
    "\n",
    
   "     import math\n",
    "    # Calculate the factorial for each number and convert to a string (for regex)\n",
    "    factorials = [str(math.factorial(i)) for i in numbers]\n",
    "\n",
    "    # Search for number of zeroes from the end of the string, then find the length of that string (i.e the number of zeroes).\n",
    "    zeroes_count = [len(re.findall(\"0+$\", num)[0]) for num in factorials]\n",
    "\n",
    "    return zeroes_count\n",
    "\n",
    "\n",
    "    # More on regex syntax here:\n",
    "    #https://www.dataquest.io/wp-content/uploads/2019/03/python-regular-expressions-cheat-sheet.pdf\n",
    "\n",
    "\n",
    "    \n",
    "numbers = [5,54,24,12,23]\n",
    "count_zeroes(numbers)"
   ]
  }
 ],
 "metadata": {
  "kernelspec": {
   "display_name": "Python 3",
   "language": "python",
   "name": "python3"
  },
  "language_info": {
   "codemirror_mode": {
    "name": "ipython",
    "version": 3
   },
   "file_extension": ".py",
   "mimetype": "text/x-python",
   "name": "python",
   "nbconvert_exporter": "python",
   "pygments_lexer": "ipython3",
   "version": "3.8.3"
  }
 },
 "nbformat": 4,
 "nbformat_minor": 4
}
